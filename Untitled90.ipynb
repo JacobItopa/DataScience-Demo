{
  "nbformat": 4,
  "nbformat_minor": 0,
  "metadata": {
    "colab": {
      "provenance": [],
      "authorship_tag": "ABX9TyPYDo2v8L8UfCHjJ1uUg8G6",
      "include_colab_link": true
    },
    "kernelspec": {
      "name": "python3",
      "display_name": "Python 3"
    },
    "language_info": {
      "name": "python"
    }
  },
  "cells": [
    {
      "cell_type": "markdown",
      "metadata": {
        "id": "view-in-github",
        "colab_type": "text"
      },
      "source": [
        "<a href=\"https://colab.research.google.com/github/JacobItopa/DataScience-Demo/blob/main/Untitled90.ipynb\" target=\"_parent\"><img src=\"https://colab.research.google.com/assets/colab-badge.svg\" alt=\"Open In Colab\"/></a>"
      ]
    },
    {
      "cell_type": "markdown",
      "source": [
        "# Ingeest"
      ],
      "metadata": {
        "id": "nOIo8f8r17Ev"
      }
    },
    {
      "cell_type": "code",
      "execution_count": null,
      "metadata": {
        "id": "gu_b7-Ov120h"
      },
      "outputs": [],
      "source": []
    },
    {
      "cell_type": "markdown",
      "source": [
        "# EDA"
      ],
      "metadata": {
        "id": "0bAq-iDb2Hg0"
      }
    },
    {
      "cell_type": "code",
      "source": [],
      "metadata": {
        "id": "ohzciCWV2Jku"
      },
      "execution_count": null,
      "outputs": []
    },
    {
      "cell_type": "markdown",
      "source": [
        "# Modelling"
      ],
      "metadata": {
        "id": "R_HTiq-Y2Kmi"
      }
    },
    {
      "cell_type": "code",
      "source": [],
      "metadata": {
        "id": "jAPqhHJZ2N30"
      },
      "execution_count": null,
      "outputs": []
    },
    {
      "cell_type": "markdown",
      "source": [
        "# Conclusion"
      ],
      "metadata": {
        "id": "RcWHw2W42O4N"
      }
    },
    {
      "cell_type": "code",
      "source": [],
      "metadata": {
        "id": "sU3zuQz52R0R"
      },
      "execution_count": null,
      "outputs": []
    }
  ]
}